{
 "cells": [
  {
   "cell_type": "markdown",
   "id": "365c52f7",
   "metadata": {},
   "source": [
    "### NumPy is the fundamental package for scientific computing in Python."
   ]
  },
  {
   "cell_type": "code",
   "execution_count": null,
   "id": "e5c127f7",
   "metadata": {
    "vscode": {
     "languageId": "plaintext"
    }
   },
   "outputs": [],
   "source": [
    "import numpy as np"
   ]
  }
 ],
 "metadata": {
  "language_info": {
   "name": "python"
  }
 },
 "nbformat": 4,
 "nbformat_minor": 5
}
