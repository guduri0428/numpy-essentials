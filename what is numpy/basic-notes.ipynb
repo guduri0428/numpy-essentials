{
 "cells": [
  {
   "cell_type": "markdown",
   "id": "365c52f7",
   "metadata": {},
   "source": [
    "### NumPy is the fundamental package for scientific computing in Python."
   ]
  },
  {
   "cell_type": "markdown",
   "id": "df544c6b",
   "metadata": {},
   "source": []
  }
 ],
 "metadata": {
  "language_info": {
   "name": "python"
  }
 },
 "nbformat": 4,
 "nbformat_minor": 5
}
