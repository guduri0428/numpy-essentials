{
 "cells": [
  {
   "cell_type": "markdown",
   "id": "b03a17a1",
   "metadata": {},
   "source": [
    "#### 1D Arrays"
   ]
  },
  {
   "cell_type": "code",
   "execution_count": 2,
   "id": "d9f88cf8",
   "metadata": {},
   "outputs": [],
   "source": [
    "import numpy as np"
   ]
  },
  {
   "cell_type": "code",
   "execution_count": 16,
   "id": "b919c53f",
   "metadata": {},
   "outputs": [
    {
     "data": {
      "text/plain": [
       "array([9, 8, 7, 6, 5, 4, 3, 2, 1, 0])"
      ]
     },
     "execution_count": 16,
     "metadata": {},
     "output_type": "execute_result"
    }
   ],
   "source": [
    "one_d = np.arange(10)[::-1]\n",
    "one_d"
   ]
  },
  {
   "cell_type": "code",
   "execution_count": 17,
   "id": "99e8e88c",
   "metadata": {},
   "outputs": [
    {
     "data": {
      "text/plain": [
       "np.False_"
      ]
     },
     "execution_count": 17,
     "metadata": {},
     "output_type": "execute_result"
    }
   ],
   "source": [
    "one_d.all()"
   ]
  },
  {
   "cell_type": "code",
   "execution_count": 18,
   "id": "92255e7b",
   "metadata": {},
   "outputs": [
    {
     "data": {
      "text/plain": [
       "np.True_"
      ]
     },
     "execution_count": 18,
     "metadata": {},
     "output_type": "execute_result"
    }
   ],
   "source": [
    "one_d.any()"
   ]
  },
  {
   "cell_type": "code",
   "execution_count": 20,
   "id": "62fd65b7",
   "metadata": {},
   "outputs": [
    {
     "data": {
      "text/plain": [
       "np.int64(0)"
      ]
     },
     "execution_count": 20,
     "metadata": {},
     "output_type": "execute_result"
    }
   ],
   "source": [
    "one_d.argmax()\n"
   ]
  },
  {
   "cell_type": "code",
   "execution_count": 21,
   "id": "05098945",
   "metadata": {},
   "outputs": [
    {
     "data": {
      "text/plain": [
       "np.int64(9)"
      ]
     },
     "execution_count": 21,
     "metadata": {},
     "output_type": "execute_result"
    }
   ],
   "source": [
    "one_d.argmin()"
   ]
  },
  {
   "cell_type": "code",
   "execution_count": 25,
   "id": "75af2570",
   "metadata": {},
   "outputs": [
    {
     "data": {
      "text/plain": [
       "array([9, 8, 7, 6, 5, 4, 3, 2, 1, 0])"
      ]
     },
     "execution_count": 25,
     "metadata": {},
     "output_type": "execute_result"
    }
   ],
   "source": [
    "a = one_d.argpartition(5)\n",
    "a"
   ]
  },
  {
   "cell_type": "code",
   "execution_count": 26,
   "id": "bff3193e",
   "metadata": {},
   "outputs": [
    {
     "data": {
      "text/plain": [
       "array([9, 8, 7, 6, 5, 4, 3, 2, 1, 0])"
      ]
     },
     "execution_count": 26,
     "metadata": {},
     "output_type": "execute_result"
    }
   ],
   "source": [
    "a = one_d.argsort()\n",
    "a"
   ]
  },
  {
   "cell_type": "code",
   "execution_count": 28,
   "id": "8be3c704",
   "metadata": {},
   "outputs": [
    {
     "data": {
      "text/plain": [
       "array([9.+0.j, 8.+0.j, 7.+0.j, 6.+0.j, 5.+0.j, 4.+0.j, 3.+0.j, 2.+0.j,\n",
       "       1.+0.j, 0.+0.j], dtype=complex64)"
      ]
     },
     "execution_count": 28,
     "metadata": {},
     "output_type": "execute_result"
    }
   ],
   "source": [
    "one_d.astype(dtype='complex64')"
   ]
  },
  {
   "cell_type": "code",
   "execution_count": 31,
   "id": "66cfda7b",
   "metadata": {},
   "outputs": [
    {
     "data": {
      "text/plain": [
       "array([9, 8, 7, 6, 5, 4, 3, 2, 1, 0])"
      ]
     },
     "execution_count": 31,
     "metadata": {},
     "output_type": "execute_result"
    }
   ],
   "source": [
    "one_d"
   ]
  },
  {
   "cell_type": "code",
   "execution_count": 32,
   "id": "04a63ae3",
   "metadata": {},
   "outputs": [
    {
     "data": {
      "text/plain": [
       "array([0, 1, 2, 3, 4, 5, 6, 7, 8, 9])"
      ]
     },
     "execution_count": 32,
     "metadata": {},
     "output_type": "execute_result"
    }
   ],
   "source": [
    "one_d.base"
   ]
  },
  {
   "cell_type": "code",
   "execution_count": 33,
   "id": "14c413db",
   "metadata": {},
   "outputs": [
    {
     "data": {
      "text/plain": [
       "2391484804784"
      ]
     },
     "execution_count": 33,
     "metadata": {},
     "output_type": "execute_result"
    }
   ],
   "source": [
    "id(one_d)"
   ]
  },
  {
   "cell_type": "code",
   "execution_count": 34,
   "id": "7d880892",
   "metadata": {},
   "outputs": [
    {
     "data": {
      "text/plain": [
       "2391484804880"
      ]
     },
     "execution_count": 34,
     "metadata": {},
     "output_type": "execute_result"
    }
   ],
   "source": [
    "id(one_d.base)"
   ]
  },
  {
   "cell_type": "code",
   "execution_count": 36,
   "id": "283064fa",
   "metadata": {},
   "outputs": [],
   "source": [
    "one_d.base[0] = 100"
   ]
  },
  {
   "cell_type": "code",
   "execution_count": 37,
   "id": "96b31c72",
   "metadata": {},
   "outputs": [
    {
     "data": {
      "text/plain": [
       "array([  9,   8,   7,   6,   5,   4,   3,   2,   1, 100])"
      ]
     },
     "execution_count": 37,
     "metadata": {},
     "output_type": "execute_result"
    }
   ],
   "source": [
    "one_d"
   ]
  },
  {
   "cell_type": "code",
   "execution_count": 38,
   "id": "06940cbe",
   "metadata": {},
   "outputs": [
    {
     "data": {
      "text/plain": [
       "np.int64(9)"
      ]
     },
     "execution_count": 38,
     "metadata": {},
     "output_type": "execute_result"
    }
   ],
   "source": [
    "one_d[0]"
   ]
  },
  {
   "cell_type": "code",
   "execution_count": 40,
   "id": "b2a9fc0e",
   "metadata": {},
   "outputs": [
    {
     "data": {
      "text/plain": [
       "array([ 648518346341351424,  576460752303423488,  504403158265495552,\n",
       "        432345564227567616,  360287970189639680,  288230376151711744,\n",
       "        216172782113783808,  144115188075855872,   72057594037927936,\n",
       "       7205759403792793600])"
      ]
     },
     "execution_count": 40,
     "metadata": {},
     "output_type": "execute_result"
    }
   ],
   "source": [
    "one_d.byteswap()"
   ]
  },
  {
   "cell_type": "code",
   "execution_count": 41,
   "id": "e7ee72f1",
   "metadata": {},
   "outputs": [
    {
     "data": {
      "text/plain": [
       "array([  9,   8,   7,   6,   5,   4,   3,   2,   1, 100])"
      ]
     },
     "execution_count": 41,
     "metadata": {},
     "output_type": "execute_result"
    }
   ],
   "source": [
    "one_d"
   ]
  },
  {
   "cell_type": "code",
   "execution_count": null,
   "id": "ca94cf3d",
   "metadata": {},
   "outputs": [
    {
     "ename": "TypeError",
     "evalue": "choose() takes exactly 1 argument (0 given)",
     "output_type": "error",
     "traceback": [
      "\u001b[31m---------------------------------------------------------------------------\u001b[39m",
      "\u001b[31mTypeError\u001b[39m                                 Traceback (most recent call last)",
      "\u001b[36mCell\u001b[39m\u001b[36m \u001b[39m\u001b[32mIn[48]\u001b[39m\u001b[32m, line 1\u001b[39m\n\u001b[32m----> \u001b[39m\u001b[32m1\u001b[39m \u001b[43mone_d\u001b[49m\u001b[43m.\u001b[49m\u001b[43mchoose\u001b[49m\u001b[43m(\u001b[49m\u001b[43mmode\u001b[49m\u001b[43m=\u001b[49m\u001b[32;43m6\u001b[39;49m\u001b[43m)\u001b[49m\n",
      "\u001b[31mTypeError\u001b[39m: choose() takes exactly 1 argument (0 given)"
     ]
    }
   ],
   "source": [
    "one_d.f"
   ]
  },
  {
   "cell_type": "code",
   "execution_count": 49,
   "id": "aa615f36",
   "metadata": {},
   "outputs": [
    {
     "data": {
      "text/plain": [
       "False"
      ]
     },
     "execution_count": 49,
     "metadata": {},
     "output_type": "execute_result"
    }
   ],
   "source": [
    "one_d is one_d.base"
   ]
  },
  {
   "cell_type": "code",
   "execution_count": 50,
   "id": "26f5299a",
   "metadata": {},
   "outputs": [
    {
     "data": {
      "text/plain": [
       "2391484804784"
      ]
     },
     "execution_count": 50,
     "metadata": {},
     "output_type": "execute_result"
    }
   ],
   "source": [
    "id(one_d)"
   ]
  },
  {
   "cell_type": "code",
   "execution_count": 51,
   "id": "671a6eec",
   "metadata": {},
   "outputs": [
    {
     "data": {
      "text/plain": [
       "2391484804880"
      ]
     },
     "execution_count": 51,
     "metadata": {},
     "output_type": "execute_result"
    }
   ],
   "source": [
    "id(one_d.base)"
   ]
  },
  {
   "cell_type": "code",
   "execution_count": 52,
   "id": "067bc3e2",
   "metadata": {},
   "outputs": [
    {
     "data": {
      "text/plain": [
       "True"
      ]
     },
     "execution_count": 52,
     "metadata": {},
     "output_type": "execute_result"
    }
   ],
   "source": [
    "one_d.base is one_d.base"
   ]
  },
  {
   "cell_type": "code",
   "execution_count": 57,
   "id": "f5f5fdd6",
   "metadata": {},
   "outputs": [],
   "source": [
    "import numpy as np\n",
    "import matplotlib.pyplot as plt\n",
    "def mandelbrot(h, w, maxit=20, r=2):\n",
    "    x = np.linspace(-2.5, 1.5, 4*h+1)\n",
    "    y = np.linspace(-1.5, 1.5, 3*w+1)\n",
    "    A, B = np.meshgrid(x, y)\n",
    "    C = A + B*1j\n",
    "    z = np.zeros_like(C)\n",
    "    divtime = maxit + np.zeros(z.shape, dtype=int)\n",
    "    for i in range(maxit):\n",
    "        z = z**2 + C\n",
    "        diverge = abs(z) > r\n",
    "        divtime[div_now] = i\n",
    "        z[diverge] = r # who is diverging\n",
    "        div_now = diverge & (divtime == maxit) # who is diverging now\n",
    "    return divtime\n"
   ]
  },
  {
   "cell_type": "code",
   "execution_count": 58,
   "id": "0a456876",
   "metadata": {},
   "outputs": [
    {
     "ename": "UnboundLocalError",
     "evalue": "cannot access local variable 'div_now' where it is not associated with a value",
     "output_type": "error",
     "traceback": [
      "\u001b[31m---------------------------------------------------------------------------\u001b[39m",
      "\u001b[31mUnboundLocalError\u001b[39m                         Traceback (most recent call last)",
      "\u001b[36mCell\u001b[39m\u001b[36m \u001b[39m\u001b[32mIn[58]\u001b[39m\u001b[32m, line 2\u001b[39m\n\u001b[32m      1\u001b[39m plt.clf()\n\u001b[32m----> \u001b[39m\u001b[32m2\u001b[39m plt.imshow(\u001b[43mmandelbrot\u001b[49m\u001b[43m(\u001b[49m\u001b[32;43m400\u001b[39;49m\u001b[43m,\u001b[49m\u001b[43m \u001b[49m\u001b[32;43m400\u001b[39;49m\u001b[43m)\u001b[49m)\n",
      "\u001b[36mCell\u001b[39m\u001b[36m \u001b[39m\u001b[32mIn[57]\u001b[39m\u001b[32m, line 13\u001b[39m, in \u001b[36mmandelbrot\u001b[39m\u001b[34m(h, w, maxit, r)\u001b[39m\n\u001b[32m     11\u001b[39m z = z**\u001b[32m2\u001b[39m + C\n\u001b[32m     12\u001b[39m diverge = \u001b[38;5;28mabs\u001b[39m(z) > r\n\u001b[32m---> \u001b[39m\u001b[32m13\u001b[39m divtime[\u001b[43mdiv_now\u001b[49m] = i\n\u001b[32m     14\u001b[39m z[diverge] = r \u001b[38;5;66;03m# who is diverging\u001b[39;00m\n\u001b[32m     15\u001b[39m div_now = diverge & (divtime == maxit) \u001b[38;5;66;03m# who is diverging now\u001b[39;00m\n",
      "\u001b[31mUnboundLocalError\u001b[39m: cannot access local variable 'div_now' where it is not associated with a value"
     ]
    },
    {
     "data": {
      "text/plain": [
       "<Figure size 640x480 with 0 Axes>"
      ]
     },
     "metadata": {},
     "output_type": "display_data"
    }
   ],
   "source": [
    "plt.clf()\n",
    "plt.imshow(mandelbrot(400, 400))"
   ]
  },
  {
   "cell_type": "code",
   "execution_count": 63,
   "id": "3ec7577f",
   "metadata": {},
   "outputs": [
    {
     "data": {
      "text/plain": [
       "[<matplotlib.lines.Line2D at 0x22cd1953ed0>]"
      ]
     },
     "execution_count": 63,
     "metadata": {},
     "output_type": "execute_result"
    },
    {
     "data": {
      "image/png": "[encoded data removed]",
      "text/plain": [
       "<Figure size 640x480 with 1 Axes>"
      ]
     },
     "metadata": {},
     "output_type": "display_data"
    }
   ],
   "source": [
    "import numpy as np\n",
    "rg = np.random.default_rng(1)\n",
    "import matplotlib.pyplot as plt\n",
    " # Build a vector of 10000 normal deviates with variance 0.5^2 and mean 2\n",
    "mu, sigma = 2, 0.5\n",
    "v = rg.normal(mu, sigma, 10000)\n",
    "\n",
    "plt.hist(v, bins=50, density=True)\n",
    "(n, bins) = np.histogram(v, bins=50, density=True) # NumPy version (no plot)\n",
    "plt.plot(.5 * (bins[1:] + bins[:-1]), n)\n",
    "\n"
   ]
  },
  {
   "cell_type": "code",
   "execution_count": null,
   "id": "b18ddd54",
   "metadata": {},
   "outputs": [],
   "source": []
  }
 ],
 "metadata": {
  "kernelspec": {
   "display_name": ".venv",
   "language": "python",
   "name": "python3"
  },
  "language_info": {
   "codemirror_mode": {
    "name": "ipython",
    "version": 3
   },
   "file_extension": ".py",
   "mimetype": "text/x-python",
   "name": "python",
   "nbconvert_exporter": "python",
   "pygments_lexer": "ipython3",
   "version": "3.13.5"
  }
 },
 "nbformat": 4,
 "nbformat_minor": 5
}
